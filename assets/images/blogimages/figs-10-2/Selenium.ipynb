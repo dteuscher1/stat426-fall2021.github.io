{
 "cells": [
  {
   "cell_type": "code",
   "execution_count": 1,
   "id": "027a70f8",
   "metadata": {},
   "outputs": [],
   "source": [
    "# Import packages\n",
    "\n",
    "from selenium import webdriver\n",
    "from selenium.webdriver.common.keys import Keys\n",
    "from selenium.webdriver.support.ui import Select\n",
    "import time"
   ]
  },
  {
   "cell_type": "code",
   "execution_count": 2,
   "id": "e5fc62ff",
   "metadata": {},
   "outputs": [],
   "source": [
    "# Create a path variable to point to web driver\n",
    "\n",
    "PATH = \"/Users/trevorandrus/chromedriver\""
   ]
  },
  {
   "cell_type": "code",
   "execution_count": 3,
   "id": "493db9ba",
   "metadata": {
    "scrolled": true
   },
   "outputs": [],
   "source": [
    "# Initialize webdriver from file path, get URL, print URL title to confirm\n",
    "\n",
    "driver = webdriver.Chrome(PATH)\n",
    "driver.get('https://fred.stlouisfed.org/series/GDP')"
   ]
  },
  {
   "cell_type": "code",
   "execution_count": 4,
   "id": "36f88a36",
   "metadata": {},
   "outputs": [],
   "source": [
    "# Pause for 30 seconds to let page load fully\n",
    "\n",
    "time.sleep(10)\n",
    "driver.refresh()\n",
    "time.sleep(10)"
   ]
  },
  {
   "cell_type": "code",
   "execution_count": 5,
   "id": "fdf23a4c",
   "metadata": {},
   "outputs": [],
   "source": [
    "# Changing start date\n",
    "# 1) click on the start date input bar\n",
    "# 2) clear default information stored in the bar\n",
    "# 3) input new start date (2000-01-01)\n",
    "# 4) press enter to confirm changes\n",
    "\n",
    "start_date = driver.find_element_by_xpath('/html/body/div[1]/div[1]/div/div[2]/div[2]/div[2]/div/div[2]/div/div[1]/input')\n",
    "start_date.click()\n",
    "start_date.clear()\n",
    "start_date.send_keys('2000-01-01')\n",
    "start_date.send_keys(Keys.RETURN)"
   ]
  },
  {
   "cell_type": "code",
   "execution_count": 6,
   "id": "edbb92bb",
   "metadata": {},
   "outputs": [],
   "source": [
    "# Changing end date\n",
    "# 1) click on the end date input bar\n",
    "# 2) clear default information stored in the bar\n",
    "# 3) input new end date (2010-01-01)\n",
    "# 4) press enter to confirm changes\n",
    "\n",
    "end_date = driver.find_element_by_xpath('/html/body/div[1]/div[1]/div/div[2]/div[2]/div[2]/div/div[2]/div/div[3]/input')\n",
    "end_date.click()\n",
    "end_date.clear()\n",
    "end_date.send_keys('2010-01-01')\n",
    "end_date.send_keys(Keys.RETURN)"
   ]
  },
  {
   "cell_type": "code",
   "execution_count": 7,
   "id": "f50d31b0",
   "metadata": {},
   "outputs": [],
   "source": [
    "# Find and click on the \"edit graph\" button\n",
    "\n",
    "driver.find_element_by_xpath('/html/body/div[1]/div[1]/div/div[2]/div[2]/div[3]/span[1]/a[1]').click()"
   ]
  },
  {
   "cell_type": "code",
   "execution_count": 8,
   "id": "c3f34918",
   "metadata": {},
   "outputs": [],
   "source": [
    "# Select the Units drop down menu, change units to Percent Change from Year Ago\n",
    "\n",
    "select = Select(driver.find_element_by_xpath('/html/body/div[1]/div[1]/div/div[4]/div/div[1]/div/div/div/div/div[2]/div[2]/div/div[2]/div/div/div/div[1]/div/div/div[2]/div/div[1]/div/div[2]/div/select'))\n",
    "select.select_by_visible_text('Percent Change from Year Ago')"
   ]
  },
  {
   "cell_type": "code",
   "execution_count": 9,
   "id": "f4cd53f1",
   "metadata": {},
   "outputs": [],
   "source": [
    "# Select the Frequency drop down menu, select Annual\n",
    "\n",
    "select = Select(driver.find_element_by_xpath('/html/body/div[1]/div[1]/div/div[4]/div/div[1]/div/div/div/div/div[2]/div[2]/div/div[2]/div/div/div/div[1]/div/div/div[2]/div/div[3]/div[1]/div/select'))\n",
    "select.select_by_visible_text('Annual')"
   ]
  },
  {
   "cell_type": "code",
   "execution_count": 10,
   "id": "3768e4e7",
   "metadata": {},
   "outputs": [],
   "source": [
    "# Find the close edit button and click on it\n",
    "\n",
    "time.sleep(2)\n",
    "driver.find_element_by_xpath('/html/body/div[1]/div[1]/div/div[4]/div/div[1]/div/div/div/div/div[2]/div[2]/div/div[1]/header/div[2]/a').click()"
   ]
  },
  {
   "cell_type": "code",
   "execution_count": 11,
   "id": "32742618",
   "metadata": {},
   "outputs": [],
   "source": [
    "# Click the download button\n",
    "\n",
    "driver.find_element_by_xpath('/html/body/div[1]/div[1]/div/div[1]/h1/div/span/div/button/span').click()"
   ]
  },
  {
   "cell_type": "code",
   "execution_count": 12,
   "id": "1bdc8746",
   "metadata": {},
   "outputs": [],
   "source": [
    "# Select the CSV option from the download options\n",
    "\n",
    "time.sleep(10)\n",
    "driver.find_element_by_xpath('//*[@id=\"download-data-csv\"]').click()"
   ]
  }
 ],
 "metadata": {
  "kernelspec": {
   "display_name": "Python 3",
   "language": "python",
   "name": "python3"
  },
  "language_info": {
   "codemirror_mode": {
    "name": "ipython",
    "version": 3
   },
   "file_extension": ".py",
   "mimetype": "text/x-python",
   "name": "python",
   "nbconvert_exporter": "python",
   "pygments_lexer": "ipython3",
   "version": "3.8.8"
  }
 },
 "nbformat": 4,
 "nbformat_minor": 5
}
